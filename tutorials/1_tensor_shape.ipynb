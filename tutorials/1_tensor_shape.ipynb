{
 "cells": [
  {
   "cell_type": "markdown",
   "metadata": {},
   "source": [
    "# Tensor shape\n",
    "\n",
    "Here are constraints I introduced to the NSF project:\n",
    "\n",
    "1. **Tensor shape**: assume all tensors are in shape **(batchsize, length, dim-1, dim-2, ...)**, where \n",
    "    * batchsize: batch size of a data batch;\n",
    "    * length: maximum length of data sequences in the batch;\n",
    "    * dim-1: dimension of feature vector in one frame;\n",
    "    * dim-2: when a feature vector per frame has more than 1 dimensions;\n",
    "   \n",
    "   Length is equivalent to the number of frames, or number of waveform sampling points.\n",
    "   \n",
    "2. **Behavior**: hidden layers should not change **batchsize** and **length** of input tensors unless specified (e.g., down-sampling, up-sampling)\n",
    "    \n"
   ]
  },
  {
   "cell_type": "markdown",
   "metadata": {},
   "source": [
    "### 1. Examples on tensor shape"
   ]
  },
  {
   "cell_type": "code",
   "execution_count": 3,
   "metadata": {},
   "outputs": [],
   "source": [
    "# At the begining, let's load packages \n",
    "from __future__ import absolute_import\n",
    "from __future__ import print_function\n",
    "import sys\n",
    "import numpy as np\n",
    "import torch\n",
    "\n",
    "import tool_lib\n",
    "import matplotlib\n",
    "import matplotlib.pyplot as plt\n",
    "matplotlib.rcParams['figure.figsize'] = (10, 5)\n"
   ]
  },
  {
   "cell_type": "code",
   "execution_count": 6,
   "metadata": {},
   "outputs": [],
   "source": [
    "# load mel and F0\n",
    "mel_dim = 80\n",
    "input_mel = tool_lib.read_raw_mat(\"data_models/acoustic_features/slt_arctic_b0474.mfbsp\", mel_dim)\n",
    "\n",
    "# convert it into the required tensor format\n",
    "input_mel_tensor = torch.tensor(input_mel).unsqueeze(0)"
   ]
  },
  {
   "cell_type": "code",
   "execution_count": 7,
   "metadata": {},
   "outputs": [
    {
     "name": "stdout",
     "output_type": "stream",
     "text": [
      "Shape of original data: (554, 80)\n",
      "Shape of data as tensor: torch.Size([1, 554, 80])\n"
     ]
    }
   ],
   "source": [
    "print(\"Shape of original data: \" + str(input_mel.shape))\n",
    "print(\"Shape of data as tensor: \" + str(input_mel_tensor.shape))"
   ]
  },
  {
   "cell_type": "code",
   "execution_count": 8,
   "metadata": {},
   "outputs": [
    {
     "data": {
      "text/plain": [
       "tensor([[0., 0., 0.,  ..., 0., 0., 0.],\n",
       "        [0., 0., 0.,  ..., 0., 0., 0.],\n",
       "        [0., 0., 0.,  ..., 0., 0., 0.],\n",
       "        ...,\n",
       "        [0., 0., 0.,  ..., 0., 0., 0.],\n",
       "        [0., 0., 0.,  ..., 0., 0., 0.],\n",
       "        [0., 0., 0.,  ..., 0., 0., 0.]])"
      ]
     },
     "execution_count": 8,
     "metadata": {},
     "output_type": "execute_result"
    }
   ],
   "source": [
    "input_mel_tensor[0] - input_mel"
   ]
  },
  {
   "cell_type": "markdown",
   "metadata": {},
   "source": [
    "### 2. Note\n",
    "\n",
    "When using project-NN-Pytorch-scripts, we only need to load the data matrices in shape \\[N, M\\] (see [__getitem__](https://github.com/nii-yamagishilab/project-NN-Pytorch-scripts/blob/8c8318612e467c61c9d7d9315714e522bce3f2fe/core_scripts/data_io/default_data_io.py#L232) method).\n",
    "\n",
    "This data io wrapped over [torch.utils.data.Dataset](https://pytorch.org/docs/stable/data.html#map-style-datasets) and [torch.utils.data.DataLoader](https://pytorch.org/docs/stable/data.html#torch.utils.data.DataLoader) will automatically create tensor in (batchsize=1, N, M).\n",
    "\n",
    "Of course, the default IO can return a mini-batch (batchsize>1, N, M), when all the data files in the dataset have the same shape \\[N, M\\]. No need to worry about this because we only use batchsize=1 in this project.\n",
    "\n",
    "### 3. Conventions"
   ]
  },
  {
   "cell_type": "markdown",
   "metadata": {},
   "source": [
    "In summary, the tensor used by neural networks in this project should be:\n",
    "\n",
    "1. in shape (batchsize, length, dim)\n",
    "2. unless special layers, most of the hidden layers and modules in this project do not change the 1st and 2nd dimension of the data: it takes (batchsize, length, dimM) as input and returns (batchsize, length, dimN)"
   ]
  },
  {
   "cell_type": "code",
   "execution_count": null,
   "metadata": {},
   "outputs": [],
   "source": []
  }
 ],
 "metadata": {
  "kernelspec": {
   "display_name": "Python (pytorch-1.5)",
   "language": "python",
   "name": "pytorch-1.5"
  },
  "language_info": {
   "codemirror_mode": {
    "name": "ipython",
    "version": 3
   },
   "file_extension": ".py",
   "mimetype": "text/x-python",
   "name": "python",
   "nbconvert_exporter": "python",
   "pygments_lexer": "ipython3",
   "version": "3.8.1"
  }
 },
 "nbformat": 4,
 "nbformat_minor": 4
}

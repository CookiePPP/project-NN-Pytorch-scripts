{
 "cells": [
  {
   "cell_type": "markdown",
   "metadata": {},
   "source": [
    "# Demonstration book for Hn-NSF"
   ]
  },
  {
   "cell_type": "markdown",
   "metadata": {},
   "source": [
    "This is the demonstration book for Hn-NSF. By using this book, we are going to \n",
    "\n",
    "* Define a Hn-NSF based on function blocks such as 1D CNN, sine waveform generator\n",
    "* Load pre-trained Hn-NSF model and generate waveform samples\n",
    "\n",
    "Details of the function blocks are introduced in NNN of this Hands-on session.\n",
    "\n",
    "Requirements:\n",
    "* A python3 environment with Pytorch-1.4 or later\n",
    "* numpy, scipy, \n",
    "* matplotlib\n"
   ]
  },
  {
   "cell_type": "markdown",
   "metadata": {},
   "source": [
    "## 1. Define Hn-NSF model"
   ]
  },
  {
   "cell_type": "markdown",
   "metadata": {},
   "source": [
    "Since Hn-NSF is built on the basis of 1D CNN and other NN funciton blocks. These NN function blocks can be briefly grouped into three modules: the condition module, the source module, and the neural filter module. This section will walk through the general framework of Hn-NSF model.\n"
   ]
  },
  {
   "cell_type": "markdown",
   "metadata": {},
   "source": [
    "### 1.1 Preparation\n",
    "\n",
    "Let's load the packages and basic NN functions:"
   ]
  },
  {
   "cell_type": "code",
   "execution_count": 1,
   "metadata": {},
   "outputs": [],
   "source": [
    "# At the begining, let's load packages \n",
    "from __future__ import absolute_import\n",
    "from __future__ import print_function\n",
    "import sys\n",
    "import numpy as np\n",
    "import torch\n",
    "import torch.nn as torch_nn\n",
    "import torch.nn.functional as torch_nn_func\n",
    "\n",
    "# load the basic function blocks\n",
    "import data_models.pre_trained_hn_nsf.model as nii_nn_blocks\n",
    "\n",
    "# misc functions for this demonstration book\n",
    "import plot_lib\n",
    "import tool_lib\n",
    "import matplotlib\n",
    "import matplotlib.pyplot as plt\n",
    "matplotlib.rcParams['figure.figsize'] = (10, 5)\n"
   ]
  },
  {
   "cell_type": "markdown",
   "metadata": {},
   "source": [
    "All the necessary NN function blocks are defined in *data_models/pre_trained_hn_nsf/model.py*"
   ]
  },
  {
   "cell_type": "markdown",
   "metadata": {},
   "source": [
    "### 1.2 Condition module\n",
    "\n",
    "Picture here [] \n",
    "\n",
    "Picture above shows the network structure of the condition module. This is module has two specific goals: \n",
    "1. Up-sample the input F0 sequence\n",
    "2. Transform and upsample the input acoustic features (e.g., Mel-spec, and F0)\n",
    "\n",
    "It is straightforward to define the Condition Module"
   ]
  },
  {
   "cell_type": "code",
   "execution_count": 2,
   "metadata": {},
   "outputs": [],
   "source": [
    "class CondModule(torch_nn.Module):\n",
    "    \"\"\" Conditiona module\n",
    "    Upsample and transform input features\n",
    "    \n",
    "    Initialization:\n",
    "    CondModule(input_dim, output_dim, up_sample,\n",
    "               blstm_s = 64, cnn_kernel_s = 3)\n",
    "        input_dime: dimension of input features \n",
    "        output_dim: dimension of output features for neural filter module\n",
    "        up_sample: up-sampling rate\n",
    "        blstm_s: dimension of the hidden Bi-LSTM RNN layer\n",
    "        cnn_kernel_s: kernel size of the output CNN layer\n",
    "      \n",
    "    Method:\n",
    "    Spec_upsampled, F0_upsampled = CondModule(features, F0)\n",
    "    \n",
    "        feature: (batchsize, length, dim)\n",
    "        f0: (batchsize, length, dim=1), \n",
    "        \n",
    "        spec_upsampled: (batchsize, length * up_sample, output_dim)\n",
    "        f0_upsampled: (batchsize, length * up_sample, 1)\n",
    "    \n",
    "    \"\"\"\n",
    "    def __init__(self, input_dim, output_dim, up_sample, \\\n",
    "                 blstm_s = 64, cnn_kernel_s = 3):\n",
    "        super(CondModule, self).__init__()\n",
    "        \n",
    "        # config\n",
    "        self.input_dim = input_dim\n",
    "        self.output_dim = output_dim\n",
    "        self.up_sample = up_sample\n",
    "        self.blstm_s = blstm_s\n",
    "        self.cnn_kernel_s = cnn_kernel_s\n",
    "\n",
    "        # Bi-LSTM layer  (batchsize, length, input_dim) -> (batchsize, length, blsmt_s)\n",
    "        self.l_blstm = nii_nn_blocks.BLSTMLayer(input_dim, self.blstm_s)\n",
    "        \n",
    "        # 1D CNN with stride=1  (batchsize, length, blsmt_s) -> (batchsize, length, output_dim)\n",
    "        self.l_conv1d = nii_nn_blocks.Conv1dKeepLength(self.blstm_s, output_dim, 1, self.cnn_kernel_s)\n",
    "        \n",
    "        # up-sampling layer with smoothing=True \n",
    "        # (batchsize, length, output_dim) -> (batchsize, length*up_sample, output_dim)\n",
    "        self.l_upsamp = nii_nn_blocks.UpSampleLayer(self.output_dim, self.up_sample, True)\n",
    "        \n",
    "        # Upsampling for F0: don't smooth up-sampled F0\n",
    "        self.l_upsamp_F0 = nii_nn_blocks.UpSampleLayer(1, self.up_sample, False)\n",
    "\n",
    "    def forward(self, feature, f0):\n",
    "        spec_trans_upsampled = self.l_upsamp(self.l_conv1d(self.l_blstm(feature)))\n",
    "        f0_upsampled = self.l_upsamp_F0(f0)\n",
    "        return spec_trans_upsampled, f0_upsampled\n"
   ]
  },
  {
   "cell_type": "markdown",
   "metadata": {},
   "source": [
    "Let's try some toy examples to show how eacy layer works"
   ]
  },
  {
   "cell_type": "code",
   "execution_count": 3,
   "metadata": {},
   "outputs": [],
   "source": [
    "# Create an input feature matrix of size (batchsize, frame_length, feature_dim)\n",
    "frame_length = 30\n",
    "feature_dim = 16\n",
    "batchsize = 2\n",
    "input_feature = torch.rand(batchsize, frame_length, feature_dim)\n",
    "\n",
    "# Assume f0 is the last dimension of the input_feature matrix\n",
    "#  please remember to shape F0 as (batchsize, frame_length, 1), not (batchsize, frame_length)\n",
    "input_f0 = input_feature[:, :, -1:]\n",
    "\n",
    "# Initialzie a Condition module, which up-samples input feature for 80 times\n",
    "# (80 = 16 kHz * 5 ms frame-shift)\n",
    "output_dim = 16\n",
    "up_sample = 80\n",
    "m_cond = CondModule(feature_dim, output_dim, up_sample)\n",
    "\n",
    "with torch.no_grad():\n",
    "    spec_upsampled, f0_upsampled = m_cond(input_feature, input_f0)\n"
   ]
  },
  {
   "cell_type": "code",
   "execution_count": 9,
   "metadata": {},
   "outputs": [
    {
     "name": "stdout",
     "output_type": "stream",
     "text": [
      "Input feature shape: torch.Size([2, 30, 16])\n",
      "Output spec-feature shape: torch.Size([2, 2400, 16])\n",
      "Input F0 shape: torch.Size([2, 30, 1])\n",
      "Output F0 shape: torch.Size([2, 2400, 1])\n"
     ]
    },
    {
     "data": {
      "image/png": "[encoded data removed]",
      "text/plain": [
       "<Figure size 720x360 with 2 Axes>"
      ]
     },
     "metadata": {
      "needs_background": "light"
     },
     "output_type": "display_data"
    }
   ],
   "source": [
    "# Do a simple check\n",
    "print(\"Input feature shape: %s\" % (str(input_feature.shape)))\n",
    "print(\"Output spec-feature shape: %s\" % (str(spec_upsampled.shape)))\n",
    "print(\"Input F0 shape: %s\" % (str(input_f0.shape)))\n",
    "print(\"Output F0 shape: %s\" % (str(f0_upsampled.shape)))\n",
    "\n",
    "fig = plt.figure()\n",
    "axis = fig.add_subplot(211)\n",
    "fig, axis = plot_lib.plot_signal_stem(input_f0[0, :, 0].numpy(), fig, axis, \"frame index\", \"f0 value\")\n",
    "axis = fig.add_subplot(212)\n",
    "fig, axis = plot_lib.plot_signal(f0_upsampled[0, :, 0].numpy(), fig, axis, \"time index (waveform level)\", \"f0 value\")"
   ]
  },
  {
   "cell_type": "code",
   "execution_count": null,
   "metadata": {},
   "outputs": [],
   "source": []
  }
 ],
 "metadata": {
  "kernelspec": {
   "display_name": "Python (pytorch-1.5)",
   "language": "python",
   "name": "pytorch-1.5"
  },
  "language_info": {
   "codemirror_mode": {
    "name": "ipython",
    "version": 3
   },
   "file_extension": ".py",
   "mimetype": "text/x-python",
   "name": "python",
   "nbconvert_exporter": "python",
   "pygments_lexer": "ipython3",
   "version": "3.8.1"
  }
 },
 "nbformat": 4,
 "nbformat_minor": 4
}
